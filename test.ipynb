{
 "cells": [
  {
   "cell_type": "code",
   "execution_count": 1,
   "metadata": {},
   "outputs": [],
   "source": [
    "from dotenv import load_dotenv\n",
    "import os\n",
    "import requests\n",
    "import json\n",
    "load_dotenv()\n",
    "from utils.helpers import *\n",
    "key = os.getenv('key')\n",
    "baseUrl = os.getenv(\"baseUrl\")\n",
    "organization = os.getenv(\"organization\")\n",
    "adminUserId = os.getenv(\"adminUserId\")\n",
    "headers = user_api_headers(key,adminUserId)\n"
   ]
  },
  {
   "cell_type": "code",
   "execution_count": 2,
   "metadata": {},
   "outputs": [],
   "source": [
    "payload = create_role_payload()\n",
    "payload_json = json.loads(payload)\n",
    "\n"
   ]
  },
  {
   "cell_type": "code",
   "execution_count": 3,
   "metadata": {},
   "outputs": [],
   "source": [
    "\n",
    "create_role_response = create_role(f\"{baseUrl}/organization/{organization}/roles\", headers=headers,payload=payload)\n"
   ]
  },
  {
   "cell_type": "code",
   "execution_count": 4,
   "metadata": {},
   "outputs": [
    {
     "name": "stdout",
     "output_type": "stream",
     "text": [
      "{'success': True, 'newRole': {'pk': 'Portfolio Hiway', 'name': 'Test Role for integration testing', 'description': 'Role for testing', 'permissions': ['user-create', 'user-update'], 'createdBy': '986ff878-b91d-4298-9dad-9ed3ea1a817b', 'createdAt': '2023-05-18T00:21:28.333Z', 'updatedAt': '2023-05-18T00:21:28.333Z', 'id': '6a8ed78a-18c3-4355-96c5-30b831969025'}}\n"
     ]
    }
   ],
   "source": [
    "print(create_role_response.json())"
   ]
  },
  {
   "cell_type": "code",
   "execution_count": 5,
   "metadata": {},
   "outputs": [],
   "source": [
    "data = create_role_response.json()"
   ]
  },
  {
   "cell_type": "code",
   "execution_count": 6,
   "metadata": {},
   "outputs": [
    {
     "name": "stdout",
     "output_type": "stream",
     "text": [
      "6a8ed78a-18c3-4355-96c5-30b831969025\n"
     ]
    }
   ],
   "source": [
    "roleId = data['newRole']['id']\n",
    "print(roleId)"
   ]
  },
  {
   "cell_type": "code",
   "execution_count": null,
   "metadata": {},
   "outputs": [],
   "source": [
    "roleId = \"6a8ed78a-18c3-4355-96c5-30b831969025\""
   ]
  },
  {
   "cell_type": "code",
   "execution_count": 33,
   "metadata": {},
   "outputs": [],
   "source": [
    "# delete_role_response = requests.delete(f\"{baseUrl}/roles/{roleId}\", headers=headers)"
   ]
  },
  {
   "cell_type": "code",
   "execution_count": 17,
   "metadata": {},
   "outputs": [],
   "source": [
    "# get_role_response = get_role(f\"{baseUrl}/roles/{roleId}\", headers=headers)"
   ]
  },
  {
   "cell_type": "code",
   "execution_count": 18,
   "metadata": {},
   "outputs": [
    {
     "name": "stdout",
     "output_type": "stream",
     "text": [
      "200\n"
     ]
    }
   ],
   "source": [
    "# print(get_role_response.status_code)"
   ]
  },
  {
   "cell_type": "code",
   "execution_count": 22,
   "metadata": {},
   "outputs": [
    {
     "name": "stdout",
     "output_type": "stream",
     "text": [
      "<class 'str'>\n"
     ]
    }
   ],
   "source": [
    "update_payload = json.dumps({\n",
    "        \"name\": \"Test Role 12\",\n",
    "        \n",
    "        \"permissions\": [\n",
    "            \"user-create\"\n",
    "        ]\n",
    "    })  \n",
    "print(type(update_payload))"
   ]
  },
  {
   "cell_type": "code",
   "execution_count": 23,
   "metadata": {},
   "outputs": [],
   "source": [
    "update_role_response = update_role(f\"{baseUrl}/roles/{roleId}\", headers, payload=update_payload)"
   ]
  },
  {
   "cell_type": "code",
   "execution_count": 24,
   "metadata": {},
   "outputs": [],
   "source": [
    "update_role_data = update_role_response.json() "
   ]
  },
  {
   "cell_type": "code",
   "execution_count": 27,
   "metadata": {},
   "outputs": [
    {
     "name": "stdout",
     "output_type": "stream",
     "text": [
      "Testing role\n"
     ]
    }
   ],
   "source": [
    "print(update_role_data['updated']['description'])"
   ]
  },
  {
   "cell_type": "code",
   "execution_count": 28,
   "metadata": {},
   "outputs": [],
   "source": [
    "delete_role_response = delete_role(f\"{baseUrl}/roles/{roleId}\", headers)"
   ]
  },
  {
   "cell_type": "code",
   "execution_count": 29,
   "metadata": {},
   "outputs": [
    {
     "data": {
      "text/plain": [
       "200"
      ]
     },
     "execution_count": 29,
     "metadata": {},
     "output_type": "execute_result"
    }
   ],
   "source": [
    "delete_role_response.status_code\n"
   ]
  },
  {
   "cell_type": "code",
   "execution_count": 31,
   "metadata": {},
   "outputs": [
    {
     "name": "stdout",
     "output_type": "stream",
     "text": [
      "Status code: 200\n",
      "Response: {'success': True, 'deleted': {'name': 'Test Role 12', 'description': 'Testing role', 'permissions': ['user-create'], 'createdBy': '986ff878-b91d-4298-9dad-9ed3ea1a817b', 'createdAt': '2023-05-17T02:19:26.882Z', 'updatedAt': '2023-05-17T02:23:05.340Z', 'pk': 'Portfolio Hiway', 'id': 'a147f50b-a22c-4add-a350-32a2bdfb05d4'}}\n"
     ]
    }
   ],
   "source": [
    "status_code = delete_role_response.status_code\n",
    "delete_role_data = delete_role_response.json()\n",
    "print(f\"Status code: {status_code}\")\n",
    "print(f\"Response: {delete_role_data}\")"
   ]
  },
  {
   "cell_type": "code",
   "execution_count": 7,
   "metadata": {},
   "outputs": [],
   "source": [
    "role_list_response = get_all_roles(f\"{baseUrl}/organization/{organization}/roles\", headers)"
   ]
  },
  {
   "cell_type": "code",
   "execution_count": 8,
   "metadata": {},
   "outputs": [
    {
     "name": "stdout",
     "output_type": "stream",
     "text": [
      "Status code: 200\n",
      "Response: {'success': True, 'roles': [{'id': 'a09ae6ae-76d0-4bd7-a0c0-d119b7938f5f', 'name': 'Read access', 'description': 'Enables only read', 'permissions': ['di-gateway-access', 'user-api-read'], 'createdBy': '986ff878-b91d-4298-9dad-9ed3ea1a817b', 'createdAt': '2023-04-12T15:23:19.176Z', 'updatedAt': '2023-05-03T14:58:52.895Z', 'numberOfUsersAssigned': 1, 'isApplicationRole': False}, {'id': '21a33747-6f2f-4187-bfb9-2232fe555145', 'name': 'Read Only Role', 'description': 'Access to DI and Package Read and User Read', 'permissions': ['di-gateway-access', 'di-packages-read'], 'createdBy': '15bab651-541b-4c24-ba80-4cff6d1de561', 'createdAt': '2023-04-21T18:34:00.750Z', 'updatedAt': '2023-04-28T13:50:43.890Z', 'numberOfUsersAssigned': 1, 'isApplicationRole': False}, {'id': '48c38898-dc35-4e39-a949-6285827d065e', 'name': 'Everything Role', 'description': 'All Permissions', 'permissions': ['di-gateway-access', 'di-packages-read', 'di-packages-update', 'di-packages-create', 'di-packages-delete', 'di-forms-read', 'di-forms-create', 'di-forms-update', 'di-forms-delete', 'user-api-read', 'user-api-create', 'user-api-update', 'user-api-delete'], 'createdBy': '15bab651-541b-4c24-ba80-4cff6d1de561', 'createdAt': '2023-04-25T14:43:21.423Z', 'updatedAt': '2023-04-25T17:40:31.932Z', 'numberOfUsersAssigned': 7, 'isApplicationRole': False}, {'id': '931773ac-d954-4ba2-9898-7825ed4ddb27', 'name': 'User API Full Access', 'description': 'Role for testing', 'permissions': ['user-api-read', 'user-api-update', 'user-api-delete'], 'createdBy': '986ff878-b91d-4298-9dad-9ed3ea1a817b', 'createdAt': '2023-04-27T14:02:34.932Z', 'updatedAt': '2023-04-27T14:02:34.932Z', 'numberOfUsersAssigned': 4, 'isApplicationRole': True}, {'id': '774dbacd-0c79-4303-bea0-f9f186598319', 'name': 'Test Role in Demo', 'description': 'Demo', 'permissions': ['di-gateway-access', 'di-packages-read', 'di-packages-update', 'di-forms-read', 'di-forms-create', 'user-api-read', 'user-api-update'], 'createdBy': '15bab651-541b-4c24-ba80-4cff6d1de561', 'createdAt': '2023-04-27T14:35:57.840Z', 'updatedAt': '2023-04-27T14:35:57.840Z', 'numberOfUsersAssigned': 0, 'isApplicationRole': False}, {'id': 'd17fb7b9-51eb-469d-a9b9-4580c0d80337', 'name': 'User API read and update', 'description': 'Role for testing', 'permissions': ['user-api-read', 'user-api-update'], 'createdBy': '986ff878-b91d-4298-9dad-9ed3ea1a817b', 'createdAt': '2023-04-27T19:08:55.947Z', 'updatedAt': '2023-04-27T19:08:55.947Z', 'numberOfUsersAssigned': 0, 'isApplicationRole': False}, {'id': '45c78f46-8ba3-4896-93fb-c75f2d5d5729', 'name': 'User Role', 'description': 'This role should not have access to DI', 'permissions': ['di-gateway-access', 'user-api-read'], 'createdBy': '15bab651-541b-4c24-ba80-4cff6d1de561', 'createdAt': '2023-05-02T17:05:39.771Z', 'updatedAt': '2023-05-02T17:05:39.771Z', 'numberOfUsersAssigned': 0, 'isApplicationRole': False}, {'id': 'a306a201-c453-40f8-949c-f215eefce883', 'name': 'Interns', 'description': 'Interns Role', 'permissions': ['di-gateway-access', 'di-packages-read', 'di-packages-update', 'di-packages-create', 'di-packages-delete', 'di-forms-read', 'di-forms-create', 'di-forms-update', 'di-forms-delete', 'user-api-read', 'user-api-create', 'user-api-update', 'user-api-delete'], 'createdBy': '15bab651-541b-4c24-ba80-4cff6d1de561', 'createdAt': '2023-05-03T19:45:53.523Z', 'updatedAt': '2023-05-03T19:45:53.523Z', 'numberOfUsersAssigned': 2, 'isApplicationRole': False}, {'id': '87504047-e71a-485c-badf-8a00335a3a3f', 'name': 'Create functionality', 'description': 'Create functionality check', 'permissions': ['di-gateway-access', 'user-api-read', 'user-api-create'], 'createdBy': 'fb3bb19f-9e5f-4a70-bdae-e90cbe3c0567', 'createdAt': '2023-05-09T17:55:16.566Z', 'updatedAt': '2023-05-09T17:55:16.566Z', 'numberOfUsersAssigned': 0, 'isApplicationRole': False}, {'id': '222141ab-bd5d-42c0-ba48-a5839b57215c', 'name': 'Update role check', 'description': 'Update role check', 'permissions': ['di-gateway-access', 'di-packages-read', 'di-packages-update', 'di-forms-read', 'di-forms-update', 'user-api-read', 'user-api-update'], 'createdBy': 'fb3bb19f-9e5f-4a70-bdae-e90cbe3c0567', 'createdAt': '2023-05-09T17:55:57.698Z', 'updatedAt': '2023-05-09T18:19:32.345Z', 'numberOfUsersAssigned': 0, 'isApplicationRole': False}, {'id': 'c33f7bfe-1f4f-4919-aea0-d348d679ba98', 'name': 'Delete', 'description': 'Delete Check', 'permissions': ['di-gateway-access', 'di-packages-read', 'di-packages-update', 'user-api-read', 'user-api-create', 'user-api-update', 'user-api-delete'], 'createdBy': 'fb3bb19f-9e5f-4a70-bdae-e90cbe3c0567', 'createdAt': '2023-05-09T17:57:09.439Z', 'updatedAt': '2023-05-09T19:40:28.599Z', 'numberOfUsersAssigned': 1, 'isApplicationRole': False}, {'id': '1c074532-1dbe-483b-a5ef-45e91146779f', 'name': 'PHW IT', 'description': 'PHW IT', 'permissions': ['di-gateway-access', 'di-packages-read', 'di-packages-update', 'di-packages-create', 'di-packages-delete', 'di-forms-read', 'di-forms-create', 'di-forms-update', 'di-forms-delete', 'user-api-read', 'user-api-create', 'user-api-update', 'user-api-delete'], 'createdBy': 'bcfe6ee6-3caa-4067-8c81-1a4a11b3a1d4', 'createdAt': '2023-05-10T13:06:55.579Z', 'updatedAt': '2023-05-10T13:06:55.579Z', 'numberOfUsersAssigned': 1, 'isApplicationRole': False}, {'id': '517ab6af-b9bf-4663-ac63-39c780a180d3', 'name': 'PHW Supervisor', 'description': 'PHW Supervisor', 'permissions': ['di-gateway-access', 'di-packages-read', 'user-api-read'], 'createdBy': 'bcfe6ee6-3caa-4067-8c81-1a4a11b3a1d4', 'createdAt': '2023-05-10T13:10:03.220Z', 'updatedAt': '2023-05-10T13:10:03.220Z', 'numberOfUsersAssigned': 1, 'isApplicationRole': False}, {'id': '8fcd2762-33d4-4f87-bebd-69cfa8d4cd1b', 'name': 'PHW Advisor', 'description': 'PHW Advisor', 'permissions': ['di-gateway-access', 'di-packages-read', 'user-api-read'], 'createdBy': 'bcfe6ee6-3caa-4067-8c81-1a4a11b3a1d4', 'createdAt': '2023-05-10T13:10:27.648Z', 'updatedAt': '2023-05-10T13:10:27.648Z', 'numberOfUsersAssigned': 0, 'isApplicationRole': False}, {'id': '3ebd3e5b-2739-4d2e-aea0-4b3f54f64654', 'name': 'PHW Client Service', 'description': 'PHW Client Service', 'permissions': ['di-gateway-access', 'di-packages-read', 'user-api-read', 'user-api-update'], 'createdBy': 'bcfe6ee6-3caa-4067-8c81-1a4a11b3a1d4', 'createdAt': '2023-05-10T13:10:45.790Z', 'updatedAt': '2023-05-10T13:10:45.790Z', 'numberOfUsersAssigned': 1, 'isApplicationRole': False}, {'id': 'e7866a1e-4b45-4bc7-bf4f-8e36fe813ff8', 'name': 'PHW Compliance', 'description': 'PHW Compliance', 'permissions': ['di-gateway-access', 'di-packages-read', 'di-forms-read', 'user-api-read'], 'createdBy': 'bcfe6ee6-3caa-4067-8c81-1a4a11b3a1d4', 'createdAt': '2023-05-10T13:11:02.493Z', 'updatedAt': '2023-05-10T13:11:02.493Z', 'numberOfUsersAssigned': 1, 'isApplicationRole': False}, {'id': '73020f8e-f444-4e4a-86f8-0ca69c0a1f84', 'name': 'Test Role', 'description': 'Role for testing', 'permissions': ['user-create', 'user-update'], 'createdBy': '986ff878-b91d-4298-9dad-9ed3ea1a817b', 'createdAt': '2023-05-16T18:05:02.187Z', 'updatedAt': '2023-05-16T18:05:02.187Z', 'numberOfUsersAssigned': 0, 'isApplicationRole': False}, {'id': '773dc0ef-658f-435c-a69d-af1a8bed932a', 'name': 'Test Role', 'description': 'Role for testing', 'permissions': ['user-create', 'user-update'], 'createdBy': '986ff878-b91d-4298-9dad-9ed3ea1a817b', 'createdAt': '2023-05-16T18:26:17.356Z', 'updatedAt': '2023-05-16T18:26:17.356Z', 'numberOfUsersAssigned': 0, 'isApplicationRole': False}, {'id': 'b26bc317-f01a-458f-a27c-27a7415a1565', 'name': 'Test Role for integration testing', 'description': 'Role for testing', 'permissions': ['user-create', 'user-update'], 'createdBy': '986ff878-b91d-4298-9dad-9ed3ea1a817b', 'createdAt': '2023-05-16T20:50:18.398Z', 'updatedAt': '2023-05-16T20:50:18.398Z', 'numberOfUsersAssigned': 0, 'isApplicationRole': False}, {'id': 'bde62ae0-f74f-46c3-87df-28b8c6a934ef', 'name': 'Test Role for integration testing', 'description': 'Role for testing', 'permissions': ['user-create', 'user-update'], 'createdBy': '986ff878-b91d-4298-9dad-9ed3ea1a817b', 'createdAt': '2023-05-16T20:52:58.384Z', 'updatedAt': '2023-05-16T20:52:58.384Z', 'numberOfUsersAssigned': 0, 'isApplicationRole': False}, {'id': '32c48779-e6ac-4e9c-a25f-a1b1c3d4d1c9', 'name': 'Test Role for integration testing', 'description': 'Role for testing', 'permissions': ['user-create', 'user-update'], 'createdBy': '986ff878-b91d-4298-9dad-9ed3ea1a817b', 'createdAt': '2023-05-16T20:53:41.260Z', 'updatedAt': '2023-05-16T20:53:41.260Z', 'numberOfUsersAssigned': 0, 'isApplicationRole': False}, {'id': '0a6b6dba-2b83-42d8-b980-19de092e36d3', 'name': 'Test Role for integration testing', 'description': 'Role for testing', 'permissions': ['user-create', 'user-update'], 'createdBy': '986ff878-b91d-4298-9dad-9ed3ea1a817b', 'createdAt': '2023-05-16T20:55:12.134Z', 'updatedAt': '2023-05-16T20:55:12.134Z', 'numberOfUsersAssigned': 0, 'isApplicationRole': False}, {'id': 'ab86de2b-95db-4508-a04c-483742e3e16b', 'name': 'Test Role for integration testing', 'description': 'Role for testing', 'permissions': ['user-create', 'user-update'], 'createdBy': '986ff878-b91d-4298-9dad-9ed3ea1a817b', 'createdAt': '2023-05-16T21:05:08.650Z', 'updatedAt': '2023-05-16T21:05:08.650Z', 'numberOfUsersAssigned': 0, 'isApplicationRole': False}, {'id': 'cd59649e-17a4-471a-984b-d577d8322f82', 'name': 'Test Role for integration testing', 'description': 'Role for testing', 'permissions': ['user-create', 'user-update'], 'createdBy': '986ff878-b91d-4298-9dad-9ed3ea1a817b', 'createdAt': '2023-05-16T21:08:10.566Z', 'updatedAt': '2023-05-16T21:08:10.566Z', 'numberOfUsersAssigned': 0, 'isApplicationRole': False}, {'id': 'bb7605bc-c8cf-4084-90e1-fcc4bff880d5', 'name': 'Test Role for integration testing', 'description': 'Role for testing', 'permissions': ['user-create', 'user-update'], 'createdBy': '986ff878-b91d-4298-9dad-9ed3ea1a817b', 'createdAt': '2023-05-16T21:15:06.181Z', 'updatedAt': '2023-05-16T21:15:06.181Z', 'numberOfUsersAssigned': 0, 'isApplicationRole': False}, {'id': '85cd2502-da3b-4c41-a8b3-e7c9e7feb3ec', 'name': 'Test Role for integration testing', 'description': 'Role for testing', 'permissions': ['user-create', 'user-update'], 'createdBy': '986ff878-b91d-4298-9dad-9ed3ea1a817b', 'createdAt': '2023-05-16T21:18:30.696Z', 'updatedAt': '2023-05-16T21:18:30.696Z', 'numberOfUsersAssigned': 0, 'isApplicationRole': False}, {'id': '27237490-82b6-4e9e-9d46-fc9a7051dea2', 'name': 'Test Role for integration testing', 'description': 'Role for testing', 'permissions': ['user-create', 'user-update'], 'createdBy': '986ff878-b91d-4298-9dad-9ed3ea1a817b', 'createdAt': '2023-05-16T21:19:00.727Z', 'updatedAt': '2023-05-16T21:19:00.727Z', 'numberOfUsersAssigned': 0, 'isApplicationRole': False}, {'id': 'eb0822ea-8a7b-4180-9d66-95bee4bfe091', 'name': 'Test Role for integration testing', 'description': 'Role for testing', 'permissions': ['user-create', 'user-update'], 'createdBy': '986ff878-b91d-4298-9dad-9ed3ea1a817b', 'createdAt': '2023-05-17T01:49:59.942Z', 'updatedAt': '2023-05-17T01:49:59.942Z', 'numberOfUsersAssigned': 0, 'isApplicationRole': False}, {'id': '465fa633-7472-487d-865e-ffe15b02c100', 'name': 'Test Role for integration testing', 'description': 'Role for testing', 'permissions': ['user-create', 'user-update'], 'createdBy': '986ff878-b91d-4298-9dad-9ed3ea1a817b', 'createdAt': '2023-05-17T01:54:14.246Z', 'updatedAt': '2023-05-17T01:54:14.246Z', 'numberOfUsersAssigned': 0, 'isApplicationRole': False}, {'id': '76e474e2-b4bc-450d-bc43-2bb87561c08a', 'name': 'Test Role for integration testing', 'description': 'Role for testing', 'permissions': ['user-create', 'user-update'], 'createdBy': '986ff878-b91d-4298-9dad-9ed3ea1a817b', 'createdAt': '2023-05-17T02:14:18.591Z', 'updatedAt': '2023-05-17T02:14:18.591Z', 'numberOfUsersAssigned': 0, 'isApplicationRole': False}, {'id': '44fb0b11-8fb2-4e34-b8d3-6afb7a0a65b4', 'name': 'Test Role for integration testing', 'description': 'Role for testing', 'permissions': ['user-create', 'user-update'], 'createdBy': '986ff878-b91d-4298-9dad-9ed3ea1a817b', 'createdAt': '2023-05-17T02:16:04.707Z', 'updatedAt': '2023-05-17T02:16:04.707Z', 'numberOfUsersAssigned': 0, 'isApplicationRole': False}, {'id': '14e8c8eb-157a-4220-b932-ae46e41c7557', 'name': 'Test Role for integration testing', 'description': 'Role for testing', 'permissions': ['user-create', 'user-update'], 'createdBy': '986ff878-b91d-4298-9dad-9ed3ea1a817b', 'createdAt': '2023-05-17T02:17:19.172Z', 'updatedAt': '2023-05-17T02:17:19.172Z', 'numberOfUsersAssigned': 0, 'isApplicationRole': False}, {'id': '45cad743-2c32-4667-bca2-375e7750bd7b', 'name': 'Test Role 1', 'description': 'Testing role', 'permissions': ['user-create'], 'createdBy': '986ff878-b91d-4298-9dad-9ed3ea1a817b', 'createdAt': '2023-05-17T02:20:47.179Z', 'updatedAt': '2023-05-17T02:20:48.038Z', 'numberOfUsersAssigned': 0, 'isApplicationRole': False}, {'id': '8cfabb15-f2b6-4316-93a9-c54ec3eff17b', 'name': 'Test Role 1', 'description': 'Testing role', 'permissions': ['user-create'], 'createdBy': '986ff878-b91d-4298-9dad-9ed3ea1a817b', 'createdAt': '2023-05-17T02:23:33.963Z', 'updatedAt': '2023-05-17T02:23:34.903Z', 'numberOfUsersAssigned': 0, 'isApplicationRole': False}, {'id': '6a8ed78a-18c3-4355-96c5-30b831969025', 'name': 'Test Role for integration testing', 'description': 'Role for testing', 'permissions': ['user-create', 'user-update'], 'createdBy': '986ff878-b91d-4298-9dad-9ed3ea1a817b', 'createdAt': '2023-05-18T00:21:28.333Z', 'updatedAt': '2023-05-18T00:21:28.333Z', 'numberOfUsersAssigned': 0, 'isApplicationRole': False}]}\n"
     ]
    }
   ],
   "source": [
    "status_code = role_list_response.status_code\n",
    "get_roles_data = role_list_response.json()\n",
    "print(f\"Status code: {status_code}\")\n",
    "print(f\"Response: {get_roles_data}\")"
   ]
  },
  {
   "cell_type": "code",
   "execution_count": 10,
   "metadata": {},
   "outputs": [
    {
     "name": "stdout",
     "output_type": "stream",
     "text": [
      "['a09ae6ae-76d0-4bd7-a0c0-d119b7938f5f', '21a33747-6f2f-4187-bfb9-2232fe555145', '48c38898-dc35-4e39-a949-6285827d065e', '931773ac-d954-4ba2-9898-7825ed4ddb27', '774dbacd-0c79-4303-bea0-f9f186598319', 'd17fb7b9-51eb-469d-a9b9-4580c0d80337', '45c78f46-8ba3-4896-93fb-c75f2d5d5729', 'a306a201-c453-40f8-949c-f215eefce883', '87504047-e71a-485c-badf-8a00335a3a3f', '222141ab-bd5d-42c0-ba48-a5839b57215c', 'c33f7bfe-1f4f-4919-aea0-d348d679ba98', '1c074532-1dbe-483b-a5ef-45e91146779f', '517ab6af-b9bf-4663-ac63-39c780a180d3', '8fcd2762-33d4-4f87-bebd-69cfa8d4cd1b', '3ebd3e5b-2739-4d2e-aea0-4b3f54f64654', 'e7866a1e-4b45-4bc7-bf4f-8e36fe813ff8', '73020f8e-f444-4e4a-86f8-0ca69c0a1f84', '773dc0ef-658f-435c-a69d-af1a8bed932a', 'b26bc317-f01a-458f-a27c-27a7415a1565', 'bde62ae0-f74f-46c3-87df-28b8c6a934ef', '32c48779-e6ac-4e9c-a25f-a1b1c3d4d1c9', '0a6b6dba-2b83-42d8-b980-19de092e36d3', 'ab86de2b-95db-4508-a04c-483742e3e16b', 'cd59649e-17a4-471a-984b-d577d8322f82', 'bb7605bc-c8cf-4084-90e1-fcc4bff880d5', '85cd2502-da3b-4c41-a8b3-e7c9e7feb3ec', '27237490-82b6-4e9e-9d46-fc9a7051dea2', 'eb0822ea-8a7b-4180-9d66-95bee4bfe091', '465fa633-7472-487d-865e-ffe15b02c100', '76e474e2-b4bc-450d-bc43-2bb87561c08a', '44fb0b11-8fb2-4e34-b8d3-6afb7a0a65b4', '14e8c8eb-157a-4220-b932-ae46e41c7557', '45cad743-2c32-4667-bca2-375e7750bd7b', '8cfabb15-f2b6-4316-93a9-c54ec3eff17b', '6a8ed78a-18c3-4355-96c5-30b831969025']\n"
     ]
    }
   ],
   "source": [
    "print([role['id'] for role in get_roles_data['roles']])"
   ]
  },
  {
   "cell_type": "code",
   "execution_count": 11,
   "metadata": {},
   "outputs": [],
   "source": [
    "userId = \"029512f3-e95f-4fc9-b294-eb4a77baf05d\""
   ]
  },
  {
   "cell_type": "code",
   "execution_count": 12,
   "metadata": {},
   "outputs": [],
   "source": [
    "assign_role_response = assign_user_role(f\"{baseUrl}/users/{userId}/roles/{roleId}\", headers)\n",
    "status_code = assign_role_response.status_code\n",
    "assign_role_data = assign_role_response.json()\n"
   ]
  },
  {
   "cell_type": "code",
   "execution_count": 13,
   "metadata": {},
   "outputs": [
    {
     "data": {
      "text/plain": [
       "{'success': True}"
      ]
     },
     "execution_count": 13,
     "metadata": {},
     "output_type": "execute_result"
    }
   ],
   "source": [
    "assign_role_data"
   ]
  },
  {
   "cell_type": "code",
   "execution_count": null,
   "metadata": {},
   "outputs": [],
   "source": []
  }
 ],
 "metadata": {
  "kernelspec": {
   "display_name": "Python 3",
   "language": "python",
   "name": "python3"
  },
  "language_info": {
   "codemirror_mode": {
    "name": "ipython",
    "version": 3
   },
   "file_extension": ".py",
   "mimetype": "text/x-python",
   "name": "python",
   "nbconvert_exporter": "python",
   "pygments_lexer": "ipython3",
   "version": "3.10.6"
  },
  "orig_nbformat": 4
 },
 "nbformat": 4,
 "nbformat_minor": 2
}
