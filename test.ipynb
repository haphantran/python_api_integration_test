{
 "cells": [
  {
   "cell_type": "code",
   "execution_count": 2,
   "metadata": {},
   "outputs": [],
   "source": [
    "from dotenv import load_dotenv\n",
    "import os\n",
    "import requests\n",
    "import json\n",
    "load_dotenv()\n",
    "from utils.helpers import create_role,get_role,create_role_payload,user_api_headers,delete_role,update_role,update_role_payload\n",
    "key = os.getenv('key')\n",
    "baseUrl = os.getenv(\"baseUrl\")\n",
    "organization = os.getenv(\"organization\")\n",
    "adminUserId = os.getenv(\"adminUserId\")\n"
   ]
  },
  {
   "cell_type": "code",
   "execution_count": 3,
   "metadata": {},
   "outputs": [],
   "source": [
    "headers = user_api_headers(key,adminUserId)\n",
    "\n"
   ]
  },
  {
   "cell_type": "code",
   "execution_count": 4,
   "metadata": {},
   "outputs": [],
   "source": [
    "payload = create_role_payload()\n",
    "payload_json = json.loads(payload)\n",
    "\n"
   ]
  },
  {
   "cell_type": "code",
   "execution_count": 5,
   "metadata": {},
   "outputs": [],
   "source": [
    "\n",
    "create_role_response = create_role(f\"{baseUrl}/organization/{organization}/roles\", headers=headers,payload=payload)\n"
   ]
  },
  {
   "cell_type": "code",
   "execution_count": 6,
   "metadata": {},
   "outputs": [
    {
     "name": "stdout",
     "output_type": "stream",
     "text": [
      "{'success': True, 'newRole': {'pk': 'Portfolio Hiway', 'name': 'Test Role for integration testing', 'description': 'Role for testing', 'permissions': ['user-create', 'user-update'], 'createdBy': '986ff878-b91d-4298-9dad-9ed3ea1a817b', 'createdAt': '2023-05-17T02:19:26.882Z', 'updatedAt': '2023-05-17T02:19:26.882Z', 'id': 'a147f50b-a22c-4add-a350-32a2bdfb05d4'}}\n"
     ]
    }
   ],
   "source": [
    "print(create_role_response.json())"
   ]
  },
  {
   "cell_type": "code",
   "execution_count": 7,
   "metadata": {},
   "outputs": [],
   "source": [
    "data = create_role_response.json()"
   ]
  },
  {
   "cell_type": "code",
   "execution_count": 8,
   "metadata": {},
   "outputs": [
    {
     "name": "stdout",
     "output_type": "stream",
     "text": [
      "a147f50b-a22c-4add-a350-32a2bdfb05d4\n"
     ]
    }
   ],
   "source": [
    "roleId = data['newRole']['id']\n",
    "print(roleId)"
   ]
  },
  {
   "cell_type": "code",
   "execution_count": 33,
   "metadata": {},
   "outputs": [],
   "source": [
    "# delete_role_response = requests.delete(f\"{baseUrl}/roles/{roleId}\", headers=headers)"
   ]
  },
  {
   "cell_type": "code",
   "execution_count": 17,
   "metadata": {},
   "outputs": [],
   "source": [
    "# get_role_response = get_role(f\"{baseUrl}/roles/{roleId}\", headers=headers)"
   ]
  },
  {
   "cell_type": "code",
   "execution_count": 18,
   "metadata": {},
   "outputs": [
    {
     "name": "stdout",
     "output_type": "stream",
     "text": [
      "200\n"
     ]
    }
   ],
   "source": [
    "# print(get_role_response.status_code)"
   ]
  },
  {
   "cell_type": "code",
   "execution_count": 22,
   "metadata": {},
   "outputs": [
    {
     "name": "stdout",
     "output_type": "stream",
     "text": [
      "<class 'str'>\n"
     ]
    }
   ],
   "source": [
    "update_payload = json.dumps({\n",
    "        \"name\": \"Test Role 12\",\n",
    "        \n",
    "        \"permissions\": [\n",
    "            \"user-create\"\n",
    "        ]\n",
    "    })  \n",
    "print(type(update_payload))"
   ]
  },
  {
   "cell_type": "code",
   "execution_count": 23,
   "metadata": {},
   "outputs": [],
   "source": [
    "update_role_response = update_role(f\"{baseUrl}/roles/{roleId}\", headers, payload=update_payload)"
   ]
  },
  {
   "cell_type": "code",
   "execution_count": 24,
   "metadata": {},
   "outputs": [],
   "source": [
    "update_role_data = update_role_response.json() "
   ]
  },
  {
   "cell_type": "code",
   "execution_count": 27,
   "metadata": {},
   "outputs": [
    {
     "name": "stdout",
     "output_type": "stream",
     "text": [
      "Testing role\n"
     ]
    }
   ],
   "source": [
    "print(update_role_data['updated']['description'])"
   ]
  },
  {
   "cell_type": "code",
   "execution_count": null,
   "metadata": {},
   "outputs": [],
   "source": []
  }
 ],
 "metadata": {
  "kernelspec": {
   "display_name": "Python 3",
   "language": "python",
   "name": "python3"
  },
  "language_info": {
   "codemirror_mode": {
    "name": "ipython",
    "version": 3
   },
   "file_extension": ".py",
   "mimetype": "text/x-python",
   "name": "python",
   "nbconvert_exporter": "python",
   "pygments_lexer": "ipython3",
   "version": "3.10.6"
  },
  "orig_nbformat": 4
 },
 "nbformat": 4,
 "nbformat_minor": 2
}
